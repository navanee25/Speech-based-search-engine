{
  "nbformat": 4,
  "nbformat_minor": 0,
  "metadata": {
    "colab": {
      "provenance": []
    },
    "kernelspec": {
      "name": "python3",
      "display_name": "Python 3"
    },
    "language_info": {
      "name": "python"
    }
  },
  "cells": [
    {
      "cell_type": "code",
      "execution_count": null,
      "metadata": {
        "id": "YKXuC8hMZedr"
      },
      "outputs": [],
      "source": [
        "import speech_recognition as sr\n",
        "import pyttsx3\n",
        "import webbrowser\n",
        "\n",
        "# Initialize the speech engine\n",
        "engine = pyttsx3.init()\n",
        "\n",
        "def speak(text):\n",
        "    engine.say(text)\n",
        "    engine.runAndWait()\n",
        "\n",
        "def take_command():\n",
        "    r = sr.Recognizer()\n",
        "    with sr.Microphone() as source:\n",
        "        print(\"Listening...\")\n",
        "        speak(\"What do you want to search for?\")\n",
        "        audio = r.listen(source)\n",
        "\n",
        "    try:\n",
        "        print(\"Recognizing...\")\n",
        "        query = r.recognize_google(audio)\n",
        "        print(f\"You said: {query}\")\n",
        "        return query\n",
        "    except sr.UnknownValueError:\n",
        "        speak(\"Sorry, I did not catch that.\")\n",
        "        return \"\"\n",
        "    except sr.RequestError:\n",
        "        speak(\"Sorry, there was a problem with the speech recognition service.\")\n",
        "        return \"\"\n",
        "\n",
        "def search_web(query):\n",
        "    if query:\n",
        "        url = f\"https://www.google.com/search?q={query}\"\n",
        "        webbrowser.open(url)\n",
        "        speak(f\"Here are the search results for {query}\")\n",
        "    else:\n",
        "        speak(\"No search query provided.\")\n",
        "\n",
        "# Main function\n",
        "if __name__ == \"__main__\":\n",
        "    query = take_command()\n",
        "    search_web(query)"
      ]
    }
  ]
}